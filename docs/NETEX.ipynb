{
 "cells": [
  {
   "cell_type": "code",
   "execution_count": 1,
   "id": "c32b45b9-65a9-4c8f-b4e0-311783495e80",
   "metadata": {},
   "outputs": [],
   "source": [
    "import pandas as pd\n",
    "import geopandas as gpd\n",
    "import numpy as np\n",
    "from matplotlib import pyplot as plt\n",
    "import pydeck as pdk\n",
    "import zipfile\n",
    "import io\n",
    "import requests\n",
    "from lxml import etree\n",
    "from haversine import haversine\n",
    "import uuid"
   ]
  },
  {
   "cell_type": "markdown",
   "id": "f00c475f-5f0b-4fc0-a16d-a96ac6c123a4",
   "metadata": {},
   "source": [
    "# Parsing NETEX as master-records for odmkraken.busspeeds"
   ]
  },
  {
   "cell_type": "markdown",
   "id": "4666e76a-c7b2-4a54-8180-b7d455acb28a",
   "metadata": {},
   "source": [
    "## Reading XML with pandas"
   ]
  },
  {
   "cell_type": "markdown",
   "id": "5abcd7af-0b9d-4028-8041-0f333a98ca46",
   "metadata": {},
   "source": [
    "### Downloading a zip file with multiple XML files"
   ]
  },
  {
   "cell_type": "markdown",
   "id": "817d315e-012a-4415-9ce4-2379965bd34d",
   "metadata": {},
   "source": [
    "So let's just try opening a netex file in pandas:"
   ]
  },
  {
   "cell_type": "code",
   "execution_count": 2,
   "id": "9fa1fce0-b230-4610-abdc-336e73e11016",
   "metadata": {},
   "outputs": [],
   "source": [
    "URL = 'https://download.data.public.lu/resources/horaires-et-arrets-des-transport-publics-netex/20221202-114015/netex-20221201-20221231.zip'"
   ]
  },
  {
   "cell_type": "code",
   "execution_count": 3,
   "id": "3045fce4-c22e-4ec7-8598-975273231c6b",
   "metadata": {},
   "outputs": [
    {
     "data": {
      "text/html": [
       "<div>\n",
       "<style scoped>\n",
       "    .dataframe tbody tr th:only-of-type {\n",
       "        vertical-align: middle;\n",
       "    }\n",
       "\n",
       "    .dataframe tbody tr th {\n",
       "        vertical-align: top;\n",
       "    }\n",
       "\n",
       "    .dataframe thead th {\n",
       "        text-align: right;\n",
       "    }\n",
       "</style>\n",
       "<table border=\"1\" class=\"dataframe\">\n",
       "  <thead>\n",
       "    <tr style=\"text-align: right;\">\n",
       "      <th></th>\n",
       "      <th>PublicationTimestamp</th>\n",
       "      <th>ParticipantRef</th>\n",
       "      <th>RequestTimestamp</th>\n",
       "      <th>topics</th>\n",
       "      <th>CompositeFrame</th>\n",
       "    </tr>\n",
       "  </thead>\n",
       "  <tbody>\n",
       "    <tr>\n",
       "      <th>0</th>\n",
       "      <td>2022-12-02T10:28:55</td>\n",
       "      <td>None</td>\n",
       "      <td>None</td>\n",
       "      <td>NaN</td>\n",
       "      <td>NaN</td>\n",
       "    </tr>\n",
       "    <tr>\n",
       "      <th>1</th>\n",
       "      <td>None</td>\n",
       "      <td>LU</td>\n",
       "      <td>None</td>\n",
       "      <td>NaN</td>\n",
       "      <td>NaN</td>\n",
       "    </tr>\n",
       "    <tr>\n",
       "      <th>2</th>\n",
       "      <td>None</td>\n",
       "      <td>None</td>\n",
       "      <td>2022-12-02T10:28:55</td>\n",
       "      <td>NaN</td>\n",
       "      <td>NaN</td>\n",
       "    </tr>\n",
       "    <tr>\n",
       "      <th>3</th>\n",
       "      <td>None</td>\n",
       "      <td>None</td>\n",
       "      <td>None</td>\n",
       "      <td>NaN</td>\n",
       "      <td>NaN</td>\n",
       "    </tr>\n",
       "  </tbody>\n",
       "</table>\n",
       "</div>"
      ],
      "text/plain": [
       "  PublicationTimestamp ParticipantRef     RequestTimestamp  topics  \\\n",
       "0  2022-12-02T10:28:55           None                 None     NaN   \n",
       "1                 None             LU                 None     NaN   \n",
       "2                 None           None  2022-12-02T10:28:55     NaN   \n",
       "3                 None           None                 None     NaN   \n",
       "\n",
       "   CompositeFrame  \n",
       "0             NaN  \n",
       "1             NaN  \n",
       "2             NaN  \n",
       "3             NaN  "
      ]
     },
     "execution_count": 3,
     "metadata": {},
     "output_type": "execute_result"
    }
   ],
   "source": [
    "r = requests.get(URL)\n",
    "z = zipfile.ZipFile(io.BytesIO(r.content))\n",
    "file = next(f for f in z.filelist if 'RGTR-622' in f.filename)\n",
    "pd.read_xml(z.open(file))"
   ]
  },
  {
   "cell_type": "markdown",
   "id": "0426461b-397a-442b-916c-a3df13530ac0",
   "metadata": {},
   "source": [
    "### Using `read_xml` with namespaces to filter for specific tags"
   ]
  },
  {
   "cell_type": "markdown",
   "id": "a1c63392-48bc-47ea-ae1f-1279bb9cd531",
   "metadata": {},
   "source": [
    "So with the right tag-name and namespaces specified correctly, pandas works:"
   ]
  },
  {
   "cell_type": "code",
   "execution_count": 4,
   "id": "a7a84435-10e5-4520-8767-1012ef9e570d",
   "metadata": {},
   "outputs": [
    {
     "data": {
      "text/html": [
       "<div>\n",
       "<style scoped>\n",
       "    .dataframe tbody tr th:only-of-type {\n",
       "        vertical-align: middle;\n",
       "    }\n",
       "\n",
       "    .dataframe tbody tr th {\n",
       "        vertical-align: top;\n",
       "    }\n",
       "\n",
       "    .dataframe thead th {\n",
       "        text-align: right;\n",
       "    }\n",
       "</style>\n",
       "<table border=\"1\" class=\"dataframe\">\n",
       "  <thead>\n",
       "    <tr style=\"text-align: right;\">\n",
       "      <th></th>\n",
       "      <th>id</th>\n",
       "      <th>version</th>\n",
       "      <th>Name</th>\n",
       "      <th>ShortName</th>\n",
       "      <th>TransportMode</th>\n",
       "      <th>PublicCode</th>\n",
       "      <th>PrivateCode</th>\n",
       "      <th>AuthorityRef</th>\n",
       "      <th>additionalOperators</th>\n",
       "      <th>allowedDirections</th>\n",
       "    </tr>\n",
       "  </thead>\n",
       "  <tbody>\n",
       "    <tr>\n",
       "      <th>0</th>\n",
       "      <td>LU::Line:2367::</td>\n",
       "      <td>1669973335</td>\n",
       "      <td>622</td>\n",
       "      <td>622</td>\n",
       "      <td>bus</td>\n",
       "      <td>622</td>\n",
       "      <td>622</td>\n",
       "      <td>NaN</td>\n",
       "      <td>NaN</td>\n",
       "      <td>NaN</td>\n",
       "    </tr>\n",
       "  </tbody>\n",
       "</table>\n",
       "</div>"
      ],
      "text/plain": [
       "                id     version  Name  ShortName TransportMode  PublicCode  \\\n",
       "0  LU::Line:2367::  1669973335   622        622           bus         622   \n",
       "\n",
       "   PrivateCode  AuthorityRef  additionalOperators  allowedDirections  \n",
       "0          622           NaN                  NaN                NaN  "
      ]
     },
     "execution_count": 4,
     "metadata": {},
     "output_type": "execute_result"
    }
   ],
   "source": [
    "pd.read_xml(z.open(file), xpath='//nx:Line', namespaces={'nx': 'http://www.netex.org.uk/netex'})"
   ]
  },
  {
   "cell_type": "markdown",
   "id": "3a7217fa-a292-4b1f-b5da-728247ddd3bf",
   "metadata": {},
   "source": [
    "However, tags that have children with pertinent information, such as the latitude and longitude tags of `Location`, are lost:"
   ]
  },
  {
   "cell_type": "code",
   "execution_count": 5,
   "id": "b4c9e606-7fa9-45ad-9998-e19cebd02e53",
   "metadata": {},
   "outputs": [
    {
     "data": {
      "text/html": [
       "<div>\n",
       "<style scoped>\n",
       "    .dataframe tbody tr th:only-of-type {\n",
       "        vertical-align: middle;\n",
       "    }\n",
       "\n",
       "    .dataframe tbody tr th {\n",
       "        vertical-align: top;\n",
       "    }\n",
       "\n",
       "    .dataframe thead th {\n",
       "        text-align: right;\n",
       "    }\n",
       "</style>\n",
       "<table border=\"1\" class=\"dataframe\">\n",
       "  <thead>\n",
       "    <tr style=\"text-align: right;\">\n",
       "      <th></th>\n",
       "      <th>id</th>\n",
       "      <th>version</th>\n",
       "      <th>Location</th>\n",
       "      <th>ShortName</th>\n",
       "      <th>PublicCode</th>\n",
       "      <th>StopType</th>\n",
       "    </tr>\n",
       "  </thead>\n",
       "  <tbody>\n",
       "    <tr>\n",
       "      <th>0</th>\n",
       "      <td>LU::ScheduledStopPoint:16160119_RGTR_::</td>\n",
       "      <td>1669973335</td>\n",
       "      <td>NaN</td>\n",
       "      <td>LUX Gare, Routière CFL quai 104</td>\n",
       "      <td>LUGARC04</td>\n",
       "      <td>busStation</td>\n",
       "    </tr>\n",
       "    <tr>\n",
       "      <th>1</th>\n",
       "      <td>LU::ScheduledStopPoint:17410303_RGTR_::</td>\n",
       "      <td>1669973335</td>\n",
       "      <td>NaN</td>\n",
       "      <td>LUX Hollerich, Fonderie</td>\n",
       "      <td>LUFOND03</td>\n",
       "      <td>busStation</td>\n",
       "    </tr>\n",
       "    <tr>\n",
       "      <th>2</th>\n",
       "      <td>LU::ScheduledStopPoint:25600101_RGTR_::</td>\n",
       "      <td>1669973335</td>\n",
       "      <td>NaN</td>\n",
       "      <td>LUX Hollerich, Jean-Baptiste Merkels</td>\n",
       "      <td>LUJBME01</td>\n",
       "      <td>busStation</td>\n",
       "    </tr>\n",
       "    <tr>\n",
       "      <th>3</th>\n",
       "      <td>LU::ScheduledStopPoint:14710403_RGTR_::</td>\n",
       "      <td>1669973335</td>\n",
       "      <td>NaN</td>\n",
       "      <td>LUX Hollerich, Assurances Sociales 3</td>\n",
       "      <td>LUASSO03</td>\n",
       "      <td>busStation</td>\n",
       "    </tr>\n",
       "    <tr>\n",
       "      <th>4</th>\n",
       "      <td>LU::ScheduledStopPoint:12140101_RGTR_::</td>\n",
       "      <td>1669973335</td>\n",
       "      <td>NaN</td>\n",
       "      <td>LUX Cessange, Barrès</td>\n",
       "      <td>LUCBAR01</td>\n",
       "      <td>busStation</td>\n",
       "    </tr>\n",
       "  </tbody>\n",
       "</table>\n",
       "</div>"
      ],
      "text/plain": [
       "                                        id     version  Location  \\\n",
       "0  LU::ScheduledStopPoint:16160119_RGTR_::  1669973335       NaN   \n",
       "1  LU::ScheduledStopPoint:17410303_RGTR_::  1669973335       NaN   \n",
       "2  LU::ScheduledStopPoint:25600101_RGTR_::  1669973335       NaN   \n",
       "3  LU::ScheduledStopPoint:14710403_RGTR_::  1669973335       NaN   \n",
       "4  LU::ScheduledStopPoint:12140101_RGTR_::  1669973335       NaN   \n",
       "\n",
       "                              ShortName PublicCode    StopType  \n",
       "0       LUX Gare, Routière CFL quai 104   LUGARC04  busStation  \n",
       "1               LUX Hollerich, Fonderie   LUFOND03  busStation  \n",
       "2  LUX Hollerich, Jean-Baptiste Merkels   LUJBME01  busStation  \n",
       "3  LUX Hollerich, Assurances Sociales 3   LUASSO03  busStation  \n",
       "4                  LUX Cessange, Barrès   LUCBAR01  busStation  "
      ]
     },
     "execution_count": 5,
     "metadata": {},
     "output_type": "execute_result"
    }
   ],
   "source": [
    "pd.read_xml(z.open(file), xpath='//nx:ScheduledStopPoint', namespaces={'nx': 'http://www.netex.org.uk/netex'}).head()"
   ]
  },
  {
   "cell_type": "markdown",
   "id": "94a21e71-5166-4436-b19f-9b3d690b9fb8",
   "metadata": {},
   "source": [
    "### Using `read_xml` with stylesheets to read nested tags as a table"
   ]
  },
  {
   "cell_type": "markdown",
   "id": "7fe58448-e9c3-4f57-9cf8-9c25a38eaf97",
   "metadata": {},
   "source": [
    "According to the docs, the intended answer to that problem is a stylesheet:"
   ]
  },
  {
   "cell_type": "code",
   "execution_count": 6,
   "id": "6b731f91-728a-44a3-ba35-1c17872a9fc2",
   "metadata": {},
   "outputs": [],
   "source": [
    "style = '''\n",
    "<xsl:stylesheet version=\"1.0\" xmlns:xsl=\"http://www.w3.org/1999/XSL/Transform\" xmlns:nx=\"http://www.netex.org.uk/netex\">\n",
    "    <xsl:output method=\"xml\"/>    \n",
    "    <xsl:template match = \"nx:PublicationDelivery\">   \n",
    "        <xsl:apply-templates select=\"/nx:PublicationDelivery/nx:dataObjects/nx:CompositeFrame/nx:frames/nx:ServiceFrame/nx:scheduledStopPoints/nx:ScheduledStopPoint\" />\n",
    "    </xsl:template>\n",
    "    <xsl:template match = \"nx:ScheduledStopPoint\">   \n",
    "        <xsl:copy>\n",
    "            <id><xsl:value-of select=\"@id\" /></id>\n",
    "            <version><xsl:value-of select=\"@version\" /></version>\n",
    "            <xsl:copy-of select=\"nx:ShortName\" />\n",
    "            <xsl:copy-of select=\"nx:PublicCode\" />\n",
    "            <xsl:copy-of select=\"nx:StopType\" />\n",
    "            <xsl:copy-of select=\"nx:Location/nx:Latitude\" />\n",
    "            <xsl:copy-of select=\"nx:Location/nx:Longitude\" />\n",
    "        </xsl:copy>\n",
    "    </xsl:template>\n",
    "</xsl:stylesheet>\n",
    "'''"
   ]
  },
  {
   "cell_type": "code",
   "execution_count": 7,
   "id": "b8eef778-c79e-4278-9229-84b6791453e1",
   "metadata": {},
   "outputs": [
    {
     "data": {
      "text/html": [
       "<div>\n",
       "<style scoped>\n",
       "    .dataframe tbody tr th:only-of-type {\n",
       "        vertical-align: middle;\n",
       "    }\n",
       "\n",
       "    .dataframe tbody tr th {\n",
       "        vertical-align: top;\n",
       "    }\n",
       "\n",
       "    .dataframe thead th {\n",
       "        text-align: right;\n",
       "    }\n",
       "</style>\n",
       "<table border=\"1\" class=\"dataframe\">\n",
       "  <thead>\n",
       "    <tr style=\"text-align: right;\">\n",
       "      <th></th>\n",
       "      <th>id</th>\n",
       "      <th>version</th>\n",
       "      <th>ShortName</th>\n",
       "      <th>PublicCode</th>\n",
       "      <th>StopType</th>\n",
       "      <th>Latitude</th>\n",
       "      <th>Longitude</th>\n",
       "    </tr>\n",
       "  </thead>\n",
       "  <tbody>\n",
       "    <tr>\n",
       "      <th>0</th>\n",
       "      <td>16160119</td>\n",
       "      <td>1669973335</td>\n",
       "      <td>LUX Gare, Routière CFL quai 104</td>\n",
       "      <td>LUGARC04</td>\n",
       "      <td>busStation</td>\n",
       "      <td>49.598712</td>\n",
       "      <td>6.132902</td>\n",
       "    </tr>\n",
       "    <tr>\n",
       "      <th>1</th>\n",
       "      <td>17410303</td>\n",
       "      <td>1669973335</td>\n",
       "      <td>LUX Hollerich, Fonderie</td>\n",
       "      <td>LUFOND03</td>\n",
       "      <td>busStation</td>\n",
       "      <td>49.598529</td>\n",
       "      <td>6.127708</td>\n",
       "    </tr>\n",
       "    <tr>\n",
       "      <th>2</th>\n",
       "      <td>25600101</td>\n",
       "      <td>1669973335</td>\n",
       "      <td>LUX Hollerich, Jean-Baptiste Merkels</td>\n",
       "      <td>LUJBME01</td>\n",
       "      <td>busStation</td>\n",
       "      <td>49.599458</td>\n",
       "      <td>6.122380</td>\n",
       "    </tr>\n",
       "    <tr>\n",
       "      <th>3</th>\n",
       "      <td>14710403</td>\n",
       "      <td>1669973335</td>\n",
       "      <td>LUX Hollerich, Assurances Sociales 3</td>\n",
       "      <td>LUASSO03</td>\n",
       "      <td>busStation</td>\n",
       "      <td>49.597378</td>\n",
       "      <td>6.117603</td>\n",
       "    </tr>\n",
       "    <tr>\n",
       "      <th>4</th>\n",
       "      <td>12140101</td>\n",
       "      <td>1669973335</td>\n",
       "      <td>LUX Cessange, Barrès</td>\n",
       "      <td>LUCBAR01</td>\n",
       "      <td>busStation</td>\n",
       "      <td>49.595895</td>\n",
       "      <td>6.115490</td>\n",
       "    </tr>\n",
       "  </tbody>\n",
       "</table>\n",
       "</div>"
      ],
      "text/plain": [
       "         id     version                             ShortName PublicCode  \\\n",
       "0  16160119  1669973335       LUX Gare, Routière CFL quai 104   LUGARC04   \n",
       "1  17410303  1669973335               LUX Hollerich, Fonderie   LUFOND03   \n",
       "2  25600101  1669973335  LUX Hollerich, Jean-Baptiste Merkels   LUJBME01   \n",
       "3  14710403  1669973335  LUX Hollerich, Assurances Sociales 3   LUASSO03   \n",
       "4  12140101  1669973335                  LUX Cessange, Barrès   LUCBAR01   \n",
       "\n",
       "     StopType   Latitude  Longitude  \n",
       "0  busStation  49.598712   6.132902  \n",
       "1  busStation  49.598529   6.127708  \n",
       "2  busStation  49.599458   6.122380  \n",
       "3  busStation  49.597378   6.117603  \n",
       "4  busStation  49.595895   6.115490  "
      ]
     },
     "execution_count": 7,
     "metadata": {},
     "output_type": "execute_result"
    }
   ],
   "source": [
    "stop_points = pd.read_xml(z.open(file), stylesheet=style, xpath='/*')\n",
    "stop_points['id'] = stop_points['id'].str.extract(r'LU::ScheduledStopPoint:(?P<id>[0-9]+)_[A-Z]+_::')\n",
    "stop_points.head()"
   ]
  },
  {
   "cell_type": "markdown",
   "id": "765e7c65-2a6c-412f-a328-bc4fbc71de82",
   "metadata": {},
   "source": [
    "Success ! This table would be usable- the `HALT` codes sent in the latest ICTS data dumps seem to match the `id` of `ScheduledStopPoint`. Except that this only provides the name given by the respective operator. The \"master stop\" simplifying spatial aggregation is hidden in other objects:"
   ]
  },
  {
   "cell_type": "markdown",
   "id": "ca070507-e4a1-4605-b483-7ccf2d603f87",
   "metadata": {},
   "source": [
    "## NETEX data model"
   ]
  },
  {
   "cell_type": "markdown",
   "id": "c3da95ca-b4ba-4f48-8c2b-0526a79b26c0",
   "metadata": {},
   "source": [
    "Having explored a few files manually, the data model seems centered around the idea of linking the infrastructure of the bus-stop itself, to the fact that a vehicle is scheduled to stop there. In particular:\n",
    "\n",
    "1. `PassengerStopAssignment` (in the `ServiceFrame` under `stopAssignments`) stores a reference to a `StopPlace` (or `Quay`) and a `ScheduledStopPont`.\n",
    "2. A `StopPlace` (in the `SiteFrame` under `stopPlaces`) has a name, a location (coordinates of its centroid), a `TopographicalPlace` (which seems to be a commune), a `Level` (referring to what level of a building a stop is at) and it may indicate one or several `Quay` objects, that have the same attributes and that can be linked to directly from the `StopPlace`.\n",
    "3. A `ScheduledStopPoint` (in the `ServiceFrame` under `scheduledStopPoints`) simiarly has a nme and a location. It is referred to by a `StopPointInJourneyPattern`, which links the stop point to a `ServiceJourneyPattern`.\n",
    "4. A `ServiceJourneyPattern` (in the `ServiceFrame`) stores a sequence of `StopPointInJourneyPattern` indicating the sequence of `ScheduledStopPoint` visited during the journey, as well as (for each stop) whether passengers may board, disembark and whether there is a \"change of destination display\". It also includes meta data, such as the formal direction of travel, `NoticeAssignment` informing e.g. about school transport services or guaranteed connections. While conceptually, the `ServiceJourneyPattern` corresponds to a  `run` (=course), the IDs do not seem to match.\n",
    "5. `TimetabledPassingTime` add the departure and arrival time for every `StopPointInJourneyPattern`.\n",
    "    \n",
    "\n"
   ]
  },
  {
   "cell_type": "markdown",
   "id": "303ecd34-63ed-4bbc-a8b5-91bd8b1363a4",
   "metadata": {},
   "source": [
    "So what we would need as a `stop` table are the links from `ScheduledStopPoint` to `StopPlace` via  `PassengerStopAssignment`.\n",
    "\n",
    "There is also the option to gather information about `runs` and scheduling from the `StopPointInJourneyPattern`."
   ]
  },
  {
   "cell_type": "markdown",
   "id": "c8a546c8-f263-4529-8dd7-3e7ee73f2c4d",
   "metadata": {},
   "source": [
    "### Definition of lines"
   ]
  },
  {
   "cell_type": "code",
   "execution_count": 8,
   "id": "ab17dbb3-4741-460a-9d84-4ff82f69934e",
   "metadata": {},
   "outputs": [],
   "source": [
    "style = '''\n",
    "<xsl:stylesheet version=\"1.0\" xmlns:xsl=\"http://www.w3.org/1999/XSL/Transform\" xmlns:nx=\"http://www.netex.org.uk/netex\">\n",
    "    \n",
    "    <xsl:output method=\"xml\"/>\n",
    "    <xsl:key name=\"authorities\" match=\"//nx:organisations/nx:Authority\" use=\"@id\" />\n",
    "    <xsl:key name=\"operators\" match=\"//nx:organisations/nx:Operator\" use=\"@id\" />\n",
    "    \n",
    "    <xsl:template match=\"//nx:CompositeFrame\">\n",
    "    <Line>\n",
    "        <xsl:apply-templates select=\"//nx:Line\" />\n",
    "        <xsl:apply-templates match=\"//nx:ValidBetween\" />\n",
    "        </Line>\n",
    "    </xsl:template>\n",
    "\n",
    "    <!-- indices to merge references -->\n",
    "    <xsl:template match=\"nx:Line\">\n",
    "            <id><xsl:value-of select=\"@id\" /></id>\n",
    "            <version><xsl:value-of select=\"@version\" /></version>\n",
    "            <name><xsl:value-of select=\"nx:Name\" /></name>\n",
    "            <shortName><xsl:value-of select=\"nx:ShortName\" /></shortName>\n",
    "            <mode><xsl:value-of select=\"nx:TransportMode\" /></mode>\n",
    "            <publicCode><xsl:value-of select=\"nx:PublicCode\" /></publicCode>\n",
    "            <privateCode><xsl:value-of select=\"nx:PrivateCode\" /></privateCode>\n",
    "            <authority><xsl:value-of select=\"key('authorities', nx:AuthorityRef/@ref)/nx:Name\" /></authority>\n",
    "            <xsl:for-each select=\"nx:additionalOperators\">\n",
    "                <operator><xsl:value-of select=\"key('operators', nx:OperatorRef/@ref)/nx:Name\" /></operator>\n",
    "            </xsl:for-each>\n",
    "            <!--<direction>\n",
    "                <xsl:for-each select=\"nx:allowedDirections/nx:AllowedLineDirection\">\n",
    "                    <xsl:value-of select=\"@id\" />\n",
    "                </xsl:for-each>\n",
    "            </direction>-->\n",
    "        \n",
    "    </xsl:template>\n",
    "        \n",
    "    <xsl:template match=\"nx:ValidBetween\">\n",
    "        <fromDate><xsl:value-of select=\"nx:FromDate\" /></fromDate>\n",
    "        <toDate><xsl:value-of select=\"nx:ToDate\" /></toDate>\n",
    "    </xsl:template>\n",
    "    \n",
    "</xsl:stylesheet>\n",
    "'''\n",
    "\n",
    "lines = []\n",
    "transform = etree.XSLT(etree.XML(style))\n",
    "for file in z.filelist:\n",
    "    with z.open(file) as h:\n",
    "        lines.append(pd.read_xml(h, xpath='/Line', stylesheet=style))\n",
    "lines = pd.concat(lines)\n",
    "\n",
    "lines['fromDate'] = pd.to_datetime(lines['fromDate'])\n",
    "lines['toDate'] = pd.to_datetime(lines['toDate'])\n",
    "lines['ictsLineCode'] = lines['authority'].replace('CFL_Bus', 'CFL').str.cat(lines['shortName'].astype('str').str.pad(2, fillchar='0'))"
   ]
  },
  {
   "cell_type": "code",
   "execution_count": 9,
   "id": "5d5f5f3c-8c53-4ddf-83c0-e56f0ee6e92e",
   "metadata": {},
   "outputs": [
    {
     "data": {
      "text/html": [
       "<div>\n",
       "<style scoped>\n",
       "    .dataframe tbody tr th:only-of-type {\n",
       "        vertical-align: middle;\n",
       "    }\n",
       "\n",
       "    .dataframe tbody tr th {\n",
       "        vertical-align: top;\n",
       "    }\n",
       "\n",
       "    .dataframe thead th {\n",
       "        text-align: right;\n",
       "    }\n",
       "</style>\n",
       "<table border=\"1\" class=\"dataframe\">\n",
       "  <thead>\n",
       "    <tr style=\"text-align: right;\">\n",
       "      <th></th>\n",
       "      <th>id</th>\n",
       "      <th>version</th>\n",
       "      <th>name</th>\n",
       "      <th>shortName</th>\n",
       "      <th>mode</th>\n",
       "      <th>publicCode</th>\n",
       "      <th>privateCode</th>\n",
       "      <th>authority</th>\n",
       "      <th>operator</th>\n",
       "      <th>fromDate</th>\n",
       "      <th>toDate</th>\n",
       "      <th>ictsLineCode</th>\n",
       "    </tr>\n",
       "  </thead>\n",
       "  <tbody>\n",
       "    <tr>\n",
       "      <th>0</th>\n",
       "      <td>LU::Line:257::</td>\n",
       "      <td>1669973335</td>\n",
       "      <td>10</td>\n",
       "      <td>10</td>\n",
       "      <td>bus</td>\n",
       "      <td>10</td>\n",
       "      <td>10</td>\n",
       "      <td>AVL</td>\n",
       "      <td>Ville de Luxembourg - Service Autobus</td>\n",
       "      <td>2022-12-01</td>\n",
       "      <td>2022-12-31</td>\n",
       "      <td>AVL10</td>\n",
       "    </tr>\n",
       "    <tr>\n",
       "      <th>0</th>\n",
       "      <td>LU::Line:258::</td>\n",
       "      <td>1669973335</td>\n",
       "      <td>11</td>\n",
       "      <td>11</td>\n",
       "      <td>bus</td>\n",
       "      <td>11</td>\n",
       "      <td>11</td>\n",
       "      <td>AVL</td>\n",
       "      <td>Ville de Luxembourg - Service Autobus</td>\n",
       "      <td>2022-12-01</td>\n",
       "      <td>2022-12-31</td>\n",
       "      <td>AVL11</td>\n",
       "    </tr>\n",
       "    <tr>\n",
       "      <th>0</th>\n",
       "      <td>LU::Line:259::</td>\n",
       "      <td>1669973335</td>\n",
       "      <td>12</td>\n",
       "      <td>12</td>\n",
       "      <td>bus</td>\n",
       "      <td>12</td>\n",
       "      <td>12</td>\n",
       "      <td>AVL</td>\n",
       "      <td>Ville de Luxembourg - Service Autobus</td>\n",
       "      <td>2022-12-01</td>\n",
       "      <td>2022-12-31</td>\n",
       "      <td>AVL12</td>\n",
       "    </tr>\n",
       "    <tr>\n",
       "      <th>0</th>\n",
       "      <td>LU::Line:260::</td>\n",
       "      <td>1669973335</td>\n",
       "      <td>13</td>\n",
       "      <td>13</td>\n",
       "      <td>bus</td>\n",
       "      <td>13</td>\n",
       "      <td>13</td>\n",
       "      <td>AVL</td>\n",
       "      <td>Ville de Luxembourg - Service Autobus</td>\n",
       "      <td>2022-12-01</td>\n",
       "      <td>2022-12-31</td>\n",
       "      <td>AVL13</td>\n",
       "    </tr>\n",
       "    <tr>\n",
       "      <th>0</th>\n",
       "      <td>LU::Line:261::</td>\n",
       "      <td>1669973335</td>\n",
       "      <td>14</td>\n",
       "      <td>14</td>\n",
       "      <td>bus</td>\n",
       "      <td>14</td>\n",
       "      <td>14</td>\n",
       "      <td>AVL</td>\n",
       "      <td>Ville de Luxembourg - Service Autobus</td>\n",
       "      <td>2022-12-01</td>\n",
       "      <td>2022-12-31</td>\n",
       "      <td>AVL14</td>\n",
       "    </tr>\n",
       "  </tbody>\n",
       "</table>\n",
       "</div>"
      ],
      "text/plain": [
       "               id     version name shortName mode publicCode privateCode  \\\n",
       "0  LU::Line:257::  1669973335   10        10  bus         10          10   \n",
       "0  LU::Line:258::  1669973335   11        11  bus         11          11   \n",
       "0  LU::Line:259::  1669973335   12        12  bus         12          12   \n",
       "0  LU::Line:260::  1669973335   13        13  bus         13          13   \n",
       "0  LU::Line:261::  1669973335   14        14  bus         14          14   \n",
       "\n",
       "  authority                               operator   fromDate     toDate  \\\n",
       "0       AVL  Ville de Luxembourg - Service Autobus 2022-12-01 2022-12-31   \n",
       "0       AVL  Ville de Luxembourg - Service Autobus 2022-12-01 2022-12-31   \n",
       "0       AVL  Ville de Luxembourg - Service Autobus 2022-12-01 2022-12-31   \n",
       "0       AVL  Ville de Luxembourg - Service Autobus 2022-12-01 2022-12-31   \n",
       "0       AVL  Ville de Luxembourg - Service Autobus 2022-12-01 2022-12-31   \n",
       "\n",
       "  ictsLineCode  \n",
       "0        AVL10  \n",
       "0        AVL11  \n",
       "0        AVL12  \n",
       "0        AVL13  \n",
       "0        AVL14  "
      ]
     },
     "execution_count": 9,
     "metadata": {},
     "output_type": "execute_result"
    }
   ],
   "source": [
    "lines.head()"
   ]
  },
  {
   "cell_type": "markdown",
   "id": "d3f2209c-9fb5-4ab9-aab4-5808eab369e7",
   "metadata": {},
   "source": [
    "### Journey patterns"
   ]
  },
  {
   "cell_type": "markdown",
   "id": "243a69e9-6c7f-4623-aea2-8f9bfc85d725",
   "metadata": {},
   "source": [
    "The interesting info about journeys is hidden in the `Notice` and `NoticeAssignment` objects. This is trickier to extract, as there may be one or several messages that act either like a tag, i.e. attributing a property to a line or not, or they are a specifyer, attributing a line to a certain category. Finally, solved this using XSLT:"
   ]
  },
  {
   "cell_type": "code",
   "execution_count": 12,
   "id": "384de2a1-90ea-4a8a-8d85-d8c3806909e5",
   "metadata": {},
   "outputs": [
    {
     "ename": "KeyError",
     "evalue": "'journeyType'",
     "output_type": "error",
     "traceback": [
      "\u001b[1;31m---------------------------------------------------------------------------\u001b[0m",
      "\u001b[1;31mKeyError\u001b[0m                                  Traceback (most recent call last)",
      "File \u001b[1;32m~\\mambaforge\\envs\\py310-gg\\lib\\site-packages\\pandas\\core\\indexes\\base.py:3803\u001b[0m, in \u001b[0;36mIndex.get_loc\u001b[1;34m(self, key, method, tolerance)\u001b[0m\n\u001b[0;32m   3802\u001b[0m \u001b[38;5;28;01mtry\u001b[39;00m:\n\u001b[1;32m-> 3803\u001b[0m     \u001b[38;5;28;01mreturn\u001b[39;00m \u001b[38;5;28;43mself\u001b[39;49m\u001b[38;5;241;43m.\u001b[39;49m\u001b[43m_engine\u001b[49m\u001b[38;5;241;43m.\u001b[39;49m\u001b[43mget_loc\u001b[49m\u001b[43m(\u001b[49m\u001b[43mcasted_key\u001b[49m\u001b[43m)\u001b[49m\n\u001b[0;32m   3804\u001b[0m \u001b[38;5;28;01mexcept\u001b[39;00m \u001b[38;5;167;01mKeyError\u001b[39;00m \u001b[38;5;28;01mas\u001b[39;00m err:\n",
      "File \u001b[1;32m~\\mambaforge\\envs\\py310-gg\\lib\\site-packages\\pandas\\_libs\\index.pyx:138\u001b[0m, in \u001b[0;36mpandas._libs.index.IndexEngine.get_loc\u001b[1;34m()\u001b[0m\n",
      "File \u001b[1;32m~\\mambaforge\\envs\\py310-gg\\lib\\site-packages\\pandas\\_libs\\index.pyx:165\u001b[0m, in \u001b[0;36mpandas._libs.index.IndexEngine.get_loc\u001b[1;34m()\u001b[0m\n",
      "File \u001b[1;32mpandas\\_libs\\hashtable_class_helper.pxi:5745\u001b[0m, in \u001b[0;36mpandas._libs.hashtable.PyObjectHashTable.get_item\u001b[1;34m()\u001b[0m\n",
      "File \u001b[1;32mpandas\\_libs\\hashtable_class_helper.pxi:5753\u001b[0m, in \u001b[0;36mpandas._libs.hashtable.PyObjectHashTable.get_item\u001b[1;34m()\u001b[0m\n",
      "\u001b[1;31mKeyError\u001b[0m: 'journeyType'",
      "\nThe above exception was the direct cause of the following exception:\n",
      "\u001b[1;31mKeyError\u001b[0m                                  Traceback (most recent call last)",
      "Cell \u001b[1;32mIn [12], line 77\u001b[0m\n\u001b[0;32m     74\u001b[0m         \u001b[38;5;28;01mpass\u001b[39;00m\n\u001b[0;32m     76\u001b[0m \u001b[38;5;28;01mfor\u001b[39;00m field \u001b[38;5;129;01min\u001b[39;00m (\u001b[38;5;124m'\u001b[39m\u001b[38;5;124mjourneyType\u001b[39m\u001b[38;5;124m'\u001b[39m, \u001b[38;5;124m'\u001b[39m\u001b[38;5;124moperator\u001b[39m\u001b[38;5;124m'\u001b[39m, \u001b[38;5;124m'\u001b[39m\u001b[38;5;124mline\u001b[39m\u001b[38;5;124m'\u001b[39m, \u001b[38;5;124m'\u001b[39m\u001b[38;5;124mdirection\u001b[39m\u001b[38;5;124m'\u001b[39m):    \n\u001b[1;32m---> 77\u001b[0m     journeys[field] \u001b[38;5;241m=\u001b[39m \u001b[43mjourneys\u001b[49m\u001b[43m[\u001b[49m\u001b[43mfield\u001b[49m\u001b[43m]\u001b[49m\u001b[38;5;241m.\u001b[39mastype(\u001b[38;5;124m'\u001b[39m\u001b[38;5;124mcategory\u001b[39m\u001b[38;5;124m'\u001b[39m)\n\u001b[0;32m     79\u001b[0m journeys[\u001b[38;5;124m'\u001b[39m\u001b[38;5;124mconnection\u001b[39m\u001b[38;5;124m'\u001b[39m] \u001b[38;5;241m=\u001b[39m journeys[\u001b[38;5;124m'\u001b[39m\u001b[38;5;124mconnection\u001b[39m\u001b[38;5;124m'\u001b[39m]\u001b[38;5;241m.\u001b[39mastype(\u001b[38;5;124m'\u001b[39m\u001b[38;5;124mstr\u001b[39m\u001b[38;5;124m'\u001b[39m)\n\u001b[0;32m     80\u001b[0m journeys\u001b[38;5;241m.\u001b[39mdrop_duplicates(inplace\u001b[38;5;241m=\u001b[39m\u001b[38;5;28;01mTrue\u001b[39;00m)\n",
      "File \u001b[1;32m~\\mambaforge\\envs\\py310-gg\\lib\\site-packages\\pandas\\core\\frame.py:3804\u001b[0m, in \u001b[0;36mDataFrame.__getitem__\u001b[1;34m(self, key)\u001b[0m\n\u001b[0;32m   3802\u001b[0m \u001b[38;5;28;01mif\u001b[39;00m \u001b[38;5;28mself\u001b[39m\u001b[38;5;241m.\u001b[39mcolumns\u001b[38;5;241m.\u001b[39mnlevels \u001b[38;5;241m>\u001b[39m \u001b[38;5;241m1\u001b[39m:\n\u001b[0;32m   3803\u001b[0m     \u001b[38;5;28;01mreturn\u001b[39;00m \u001b[38;5;28mself\u001b[39m\u001b[38;5;241m.\u001b[39m_getitem_multilevel(key)\n\u001b[1;32m-> 3804\u001b[0m indexer \u001b[38;5;241m=\u001b[39m \u001b[38;5;28;43mself\u001b[39;49m\u001b[38;5;241;43m.\u001b[39;49m\u001b[43mcolumns\u001b[49m\u001b[38;5;241;43m.\u001b[39;49m\u001b[43mget_loc\u001b[49m\u001b[43m(\u001b[49m\u001b[43mkey\u001b[49m\u001b[43m)\u001b[49m\n\u001b[0;32m   3805\u001b[0m \u001b[38;5;28;01mif\u001b[39;00m is_integer(indexer):\n\u001b[0;32m   3806\u001b[0m     indexer \u001b[38;5;241m=\u001b[39m [indexer]\n",
      "File \u001b[1;32m~\\mambaforge\\envs\\py310-gg\\lib\\site-packages\\pandas\\core\\indexes\\base.py:3805\u001b[0m, in \u001b[0;36mIndex.get_loc\u001b[1;34m(self, key, method, tolerance)\u001b[0m\n\u001b[0;32m   3803\u001b[0m     \u001b[38;5;28;01mreturn\u001b[39;00m \u001b[38;5;28mself\u001b[39m\u001b[38;5;241m.\u001b[39m_engine\u001b[38;5;241m.\u001b[39mget_loc(casted_key)\n\u001b[0;32m   3804\u001b[0m \u001b[38;5;28;01mexcept\u001b[39;00m \u001b[38;5;167;01mKeyError\u001b[39;00m \u001b[38;5;28;01mas\u001b[39;00m err:\n\u001b[1;32m-> 3805\u001b[0m     \u001b[38;5;28;01mraise\u001b[39;00m \u001b[38;5;167;01mKeyError\u001b[39;00m(key) \u001b[38;5;28;01mfrom\u001b[39;00m \u001b[38;5;21;01merr\u001b[39;00m\n\u001b[0;32m   3806\u001b[0m \u001b[38;5;28;01mexcept\u001b[39;00m \u001b[38;5;167;01mTypeError\u001b[39;00m:\n\u001b[0;32m   3807\u001b[0m     \u001b[38;5;66;03m# If we have a listlike key, _check_indexing_error will raise\u001b[39;00m\n\u001b[0;32m   3808\u001b[0m     \u001b[38;5;66;03m#  InvalidIndexError. Otherwise we fall through and re-raise\u001b[39;00m\n\u001b[0;32m   3809\u001b[0m     \u001b[38;5;66;03m#  the TypeError.\u001b[39;00m\n\u001b[0;32m   3810\u001b[0m     \u001b[38;5;28mself\u001b[39m\u001b[38;5;241m.\u001b[39m_check_indexing_error(key)\n",
      "\u001b[1;31mKeyError\u001b[0m: 'journeyType'"
     ]
    }
   ],
   "source": [
    "style = '''\n",
    "<xsl:stylesheet version=\"3.0\" xmlns:xsl=\"http://www.w3.org/1999/XSL/Transform\" xmlns:nx=\"http://www.netex.org.uk/netex\">\n",
    "    \n",
    "    <xsl:output method=\"xml\"/>\n",
    "    <xsl:key name=\"authorities\" match=\"//nx:organisations/nx:Authority\" use=\"@id\" />\n",
    "    <xsl:key name=\"operators\" match=\"//nx:organisations/nx:Operator\" use=\"@id\" />\n",
    "    <xsl:key name=\"notices\" match=\"//nx:Notice\" use=\"@id\" />\n",
    "    \n",
    "    <xsl:template match=\"//nx:CompositeFrame\">\n",
    "         <journey>\n",
    "             <id>(forgetme)</id>\n",
    "             <bicycle>yes</bicycle>  <!-- necessary as there currently seems to be none... -->\n",
    "             <barrierefrei>yes</barrierefrei>\n",
    "         </journey>\n",
    "         <xsl:apply-templates select=\"//nx:ServiceJourneyPattern\" />\n",
    "    </xsl:template>\n",
    "\n",
    "    <xsl:template match=\"nx:ServiceJourneyPattern\">\n",
    "        <journey>\n",
    "            <id><xsl:value-of select=\"@id\" /><xsl:value-of select=\"key('notices', nx:NoticeRef/@ref)/nx:Text\" /></id>\n",
    "            <line><xsl:value-of select=\"nx:RouteView/nx:LineRef/@ref\" /></line>\n",
    "            <direction><xsl:value-of select=\"nx:DirectionRef/@ref\" /></direction>\n",
    "            <xsl:for-each select=\"nx:noticeAssignments/nx:NoticeAssignment\">\n",
    "                <xsl:apply-templates select=\"nx:Notice\" />\n",
    "                <xsl:apply-templates select=\"key('notices', nx:NoticeRef/@ref)\" />\n",
    "            </xsl:for-each>\n",
    "        </journey>\n",
    "    </xsl:template>\n",
    "    \n",
    "    <xsl:template match=\"nx:Notice\">\n",
    "        <xsl:choose>\n",
    "            <xsl:when test=\"contains(nx:Text, 'Fremdunternehmer')\">\n",
    "                <operator><xsl:value-of select=\"substring(nx:Text, 19)\" /></operator>\n",
    "            </xsl:when>c\n",
    "            <xsl:when test=\"contains(nx:Text, 'Fahrtart')\">\n",
    "                <journeyType><xsl:value-of select=\"substring(nx:Text, 11)\" /></journeyType>\n",
    "            </xsl:when>\n",
    "            <xsl:when test=\"contains(nx:Text, 'correspondance')\">\n",
    "                <connection><xsl:value-of select=\"nx:Text\" /></connection>\n",
    "            </xsl:when>\n",
    "            <xsl:when test=\"contains(nx:Text, 'Barrierefrei')\">\n",
    "                <barrierefrei>yes</barrierefrei>\n",
    "            </xsl:when>\n",
    "            <xsl:when test=\"contains(nx:Text, 'Rollstuhlgerecht')\">\n",
    "                <rollstuhlgerecht>yes</rollstuhlgerecht>\n",
    "            </xsl:when>\n",
    "            <xsl:when test=\"contains(nx:Text, 'Fahradmitnahme')\">\n",
    "                <bicycle>yes</bicycle>\n",
    "            </xsl:when>\n",
    "            <xsl:when test=\"contains(nx:Text, 'Einstiegshilfe')\">\n",
    "                <einstiegshilfe>yes</einstiegshilfe>\n",
    "            </xsl:when>\n",
    "            <xsl:when test=\"contains(nx:Text, 'Klimaanlage')\">\n",
    "                <airconditioned>yes</airconditioned>\n",
    "            </xsl:when>\n",
    "            <xsl:when test=\"contains(nx:Text, 'Für HAFAS gesperrt')\">\n",
    "                <nohafas>yes</nohafas>\n",
    "            </xsl:when>\n",
    "        </xsl:choose>\n",
    "    </xsl:template>\n",
    "</xsl:stylesheet>\n",
    "'''\n",
    "\n",
    "journeys = []\n",
    "for file in z.filelist:\n",
    "    with z.open(file) as h:\n",
    "        journeys.append(pd.read_xml(h, xpath='/journey', stylesheet=style).drop(0))\n",
    "journeys = pd.concat(journeys)\n",
    "\n",
    "for field in ('barrierefrei', 'rollstuhlgerecht', 'bicycle', 'einstiegshilfe', 'airconditioned', 'nohafas'):\n",
    "    try:\n",
    "        journeys[field] = journeys[field].replace('yes', 1).astype(float)\n",
    "    except KeyError:\n",
    "        pass\n",
    "\n",
    "for field in ('journeyType', 'operator', 'line', 'direction'):    \n",
    "    journeys[field] = journeys[field].astype('category')\n",
    "    \n",
    "journeys['connection'] = journeys['connection'].astype('str')\n",
    "journeys.drop_duplicates(inplace=True)\n",
    "journeys.head()"
   ]
  },
  {
   "cell_type": "code",
   "execution_count": null,
   "id": "e35c2655-1c99-4c1b-8a26-e697b85e996f",
   "metadata": {},
   "outputs": [],
   "source": [
    "journeys"
   ]
  },
  {
   "cell_type": "code",
   "execution_count": null,
   "id": "4c8ef1eb-7b68-4ce6-916a-1070dca353fb",
   "metadata": {},
   "outputs": [],
   "source": [
    "journeys.dtypes"
   ]
  },
  {
   "cell_type": "markdown",
   "id": "a2549234-4166-4df7-b22c-db58c0663b49",
   "metadata": {},
   "source": [
    "## Getting information about stops"
   ]
  },
  {
   "cell_type": "markdown",
   "id": "896dc3fa-18e6-405f-954f-891642c385ab",
   "metadata": {},
   "source": [
    "The object referenced by ICTS data is the `ScheduledStopPoint`. The path to full information (including the stop place) leads through the `PassengerStopAssignment`. The big issue here is the weird indexing of `StopPlace` objects, many of which share the identifier `LU::StopPlace:0_CdT::`. It turns out XSLT's `key` simply uses the last occurence of the `StopPlace` tag it finds in the file, even though the relationship between the `StopPoint` and the `StopPlace` often seems clear (intuitively) by name and spatially."
   ]
  },
  {
   "cell_type": "markdown",
   "id": "719f11c4-ff7e-422d-9b03-b89b2a869cf4",
   "metadata": {},
   "source": [
    "**Note**: there is a practical problem when applying a XSLT like the one below to all XML files within the NETEX bundle: some XML files do not define any `StopPoint`, `Quay` etc. objects, in which case `etree.XSLT` returns an empty object, which makes `read_xml` fail miserably. To work around that, I am simply adding a dummy record at the beginning of every file just to delete it manually again."
   ]
  },
  {
   "cell_type": "code",
   "execution_count": null,
   "id": "c2085287-bc62-40ef-a6c2-7d4bee43d88a",
   "metadata": {},
   "outputs": [],
   "source": [
    "style = '''\n",
    "<xsl:stylesheet version=\"1.0\" xmlns:xsl=\"http://www.w3.org/1999/XSL/Transform\" xmlns:nx=\"http://www.netex.org.uk/netex\">\n",
    "    \n",
    "    <xsl:output method=\"xml\"/>    \n",
    "    \n",
    "    <!-- indices to merge references -->\n",
    "    <xsl:key name=\"stoppoints\" match=\"//nx:ServiceFrame/nx:scheduledStopPoints/nx:ScheduledStopPoint\" use=\"@id\" />\n",
    "    <xsl:key name=\"stopplaces\" match=\"//nx:SiteFrame/nx:stopPlaces/nx:StopPlace\" use=\"@id\" />\n",
    "    <xsl:key name=\"quays\" match=\"//nx:SiteFrame/nx:stopPlaces/nx:StopPlace/nx:quays/nx:Quay\" use=\"@id\" />\n",
    "    <xsl:key name=\"places\" match=\"//nx:SiteFrame/nx:topographicPlaces/nx:TopographicPlace\" use=\"@id\" />\n",
    "    <xsl:key name=\"authorities\" match=\"//nx:organisations/nx:Authority\" use=\"@id\" />\n",
    "    \n",
    "    <!-- main template: triggers template for every `PassengerStopAssignment`-->\n",
    "    <xsl:template match=\"nx:PublicationDelivery\">   \n",
    "        <Stop>\n",
    "            <StopPointId>(killme)</StopPointId>\n",
    "        </Stop>\n",
    "        <xsl:apply-templates select=\"//nx:ServiceFrame/nx:stopAssignments/nx:PassengerStopAssignment\"/>\n",
    "    </xsl:template>\n",
    "    \n",
    "    <!-- reads the stop assigment and triggers templates for the 3 objects that may be referenced in turn -->\n",
    "    <xsl:template match=\"//nx:PassengerStopAssignment\">   \n",
    "        <Stop>\n",
    "            <xsl:apply-templates select=\"key('stoppoints', nx:ScheduledStopPointRef/@ref)\" />\n",
    "            <xsl:apply-templates select=\"key('stopplaces', nx:StopPlaceRef/@ref)\" />\n",
    "            <xsl:apply-templates select=\"key('quays', nx:QuayRef/@ref)\" />\n",
    "            <passengerStopAssignmentID><xsl:value-of select=\"@id\" /></passengerStopAssignmentID>\n",
    "            <passengerStopAssignmentOrder><xsl:value-of select=\"@order\" /></passengerStopAssignmentOrder>\n",
    "            <authority><xsl:value-of select=\"key('authorities', nx:AuthorityRef/@ref)/nx:Name\" /></authority>\n",
    "            <xsl:apply-templates select=\"../../../../nx:ValidBetween\" />\n",
    "        </Stop>\n",
    "    </xsl:template>\n",
    "    \n",
    "    <xsl:template match=\"nx:ValidBetween\">\n",
    "        <fromDate><xsl:value-of select=\"nx:FromDate\" /></fromDate>\n",
    "        <toDate><xsl:value-of select=\"nx:ToDate\" /></toDate>\n",
    "    </xsl:template>\n",
    "    \n",
    "    <xsl:template match=\"//nx:ScheduledStopPoint\">   \n",
    "        <StopPointId><xsl:value-of select=\"@id\" /></StopPointId>\n",
    "        <StopPointShortName><xsl:value-of select=\"nx:ShortName\" /></StopPointShortName>\n",
    "        <StopPointPublicCode><xsl:value-of select=\"nx:PublicCode\" /></StopPointPublicCode>\n",
    "        <StopPointStopType><xsl:value-of select=\"nx:StopType\" /></StopPointStopType>\n",
    "        <StopPointLatitude><xsl:value-of select=\"nx:Location/nx:Latitude\" /></StopPointLatitude>\n",
    "        <StopPointLongitude><xsl:value-of select=\"nx:Location/nx:Longitude\" /></StopPointLongitude>\n",
    "    </xsl:template>\n",
    "    <xsl:template match=\"//nx:Quay\">   \n",
    "        <QuayID><xsl:value-of select=\"@id\" /></QuayID>\n",
    "        <QuayName><xsl:value-of select=\"nx:Name\" /></QuayName>\n",
    "        <QuayLatitude><xsl:value-of select=\"nx:Centroid/nx:Location/nx:Latitude\" /></QuayLatitude>\n",
    "        <QuayLongitude><xsl:value-of select=\"nx:Centroid/nx:Location/nx:Longitude\" /></QuayLongitude>\n",
    "        <QuayStopPlaceID><xsl:value-of select=\"../../@id\" /></QuayStopPlaceID>\n",
    "    </xsl:template>\n",
    "    <xsl:template match=\"//nx:StopPlace\">   \n",
    "        <StopPlaceID><xsl:value-of select=\"@id\" /></StopPlaceID>\n",
    "        <StopPlaceName><xsl:value-of select=\"nx:Name\" /></StopPlaceName>\n",
    "        <StopPlaceLatitude><xsl:value-of select=\"nx:Centroid/nx:Location/nx:Latitude\" /></StopPlaceLatitude>\n",
    "        <StopPlaceLongitude><xsl:value-of select=\"nx:Centroid/nx:Location/nx:Longitude\" /></StopPlaceLongitude>\n",
    "        <xsl:apply-templates select=\"key('places', nx:TopographicPlaceRef/@ref)\" />\n",
    "    </xsl:template>\n",
    "    \n",
    "    <!-- a stop place may reference a topographic place -->\n",
    "    <xsl:template match=\"//nx:TopographicPlace\">   \n",
    "        <TopographicPlaceName><xsl:value-of select=\"nx:Name\" /></TopographicPlaceName>\n",
    "        <TopographicPlaceISOCode><xsl:value-of select=\"nx:IsoCode\" /></TopographicPlaceISOCode>\n",
    "    </xsl:template>    \n",
    "\n",
    "</xsl:stylesheet>\n",
    "'''\n",
    "stops = []\n",
    "for file in z.filelist:\n",
    "    with z.open(file) as h:\n",
    "        res = pd.read_xml(h, stylesheet=style, xpath='/*')\n",
    "        stops.append(res.drop(0))\n",
    "stops = pd.concat(stops)\n",
    "stops['fromDate'] = pd.to_datetime(stops['fromDate'])\n",
    "stops['toDate'] = pd.to_datetime(stops['toDate'])"
   ]
  },
  {
   "cell_type": "markdown",
   "id": "cd7a75f0-7ba2-4f06-9b77-253ac42bfca0",
   "metadata": {},
   "source": [
    "So just to verify, yes there are indeed quite a few `StopPlace` with ID 0:"
   ]
  },
  {
   "cell_type": "code",
   "execution_count": null,
   "id": "4c828856-c032-46ba-a695-73b7c4220934",
   "metadata": {},
   "outputs": [],
   "source": [
    "stops.groupby(['StopPlaceID']).agg({'StopPointId': 'count'}).sort_values('StopPointId', ascending=False).head(10)"
   ]
  },
  {
   "cell_type": "markdown",
   "id": "e4f0d090-06af-4b7c-8d19-07c7b5b4fbda",
   "metadata": {},
   "source": [
    "The core question here will be, how \"unique\" the assignment between stop places and stop points are:"
   ]
  },
  {
   "cell_type": "code",
   "execution_count": null,
   "id": "89a0f005-38b4-4ca8-9012-262f51397f62",
   "metadata": {},
   "outputs": [],
   "source": [
    "d = stops.groupby(['StopPlaceID', 'StopPointId']).agg({'StopPointId': 'count'}).groupby(level=0).count()\n",
    "d.sort_values('StopPointId', ascending=False).head(10)"
   ]
  },
  {
   "cell_type": "markdown",
   "id": "40124d50-5fd3-4326-a6f7-16244f51c696",
   "metadata": {},
   "source": [
    "Turns out that, except for this special stop place 0, which is referenced by 1468 different `StopPoint` ids, more than $99\\%$ of stop places have 1-4 stop points:"
   ]
  },
  {
   "cell_type": "code",
   "execution_count": null,
   "id": "b0391092-bbb2-492e-a476-bbce85e0ef69",
   "metadata": {},
   "outputs": [],
   "source": [
    "d.value_counts().sort_index()"
   ]
  },
  {
   "cell_type": "markdown",
   "id": "53de0337-a034-42e6-a321-42bf8a72c35a",
   "metadata": {},
   "source": [
    "Conversely, not one `StopPoint` refers to more than one `StopPlace`."
   ]
  },
  {
   "cell_type": "code",
   "execution_count": null,
   "id": "b2cf343a-5f6d-496b-9e4f-6486616a6c79",
   "metadata": {},
   "outputs": [],
   "source": [
    "(stops.groupby(['StopPointId', 'StopPlaceID']).agg({'StopPlaceID': 'count'}).groupby(level=0).count() != 1).sum()"
   ]
  },
  {
   "cell_type": "markdown",
   "id": "dfd1cfe8-9618-4152-93bc-f36e7601adf5",
   "metadata": {},
   "source": [
    "Quite obviously, the same doesn't hold true by `StopPlace` name, because XSLT will just use the last occurence it found in each file."
   ]
  },
  {
   "cell_type": "markdown",
   "id": "4334cc41-35b5-4e29-b85c-3797900e22bc",
   "metadata": {},
   "source": [
    "Just checking: if there is a `Quay`, then it's parent should always have the same StopPlaceID than the `StopPlace` referenced by the `PassengerStopAssignment`. Let's see if there are any examples where this is not the case:"
   ]
  },
  {
   "cell_type": "code",
   "execution_count": null,
   "id": "d547dac1-1bc2-48e4-8bc7-5f4e19f49926",
   "metadata": {},
   "outputs": [],
   "source": [
    "stops.loc[(~stops['QuayID'].isnull()) & (stops['StopPlaceID'] != stops['QuayStopPlaceID'])]"
   ]
  },
  {
   "cell_type": "markdown",
   "id": "9d5097b5-13ae-45b4-b2fa-61f5458b5c9e",
   "metadata": {},
   "source": [
    "Thank good! The next problem are ambiguous assignments. In particular:"
   ]
  },
  {
   "cell_type": "code",
   "execution_count": null,
   "id": "ffba5620-08d1-4f07-b9e9-b763e0343d87",
   "metadata": {},
   "outputs": [],
   "source": [
    "stops['StopPlaceID'].str.match('LU::StopPlace:0_CdT::').sum()"
   ]
  },
  {
   "cell_type": "markdown",
   "id": "6f85e641-c7ec-41a1-8b22-ec80c0077591",
   "metadata": {},
   "source": [
    "But more generally, there seem to be quite a few `StopPoint` that share the same name. In fact, there are almost 5000 ids, but a bit more than 3100 unique names. "
   ]
  },
  {
   "cell_type": "code",
   "execution_count": null,
   "id": "3f4637da-381e-4020-9d68-d94e681a9ffd",
   "metadata": {},
   "outputs": [],
   "source": [
    "len(stops['StopPointShortName'].unique())"
   ]
  },
  {
   "cell_type": "code",
   "execution_count": null,
   "id": "858a6ffa-c28f-41f1-96bd-d76ab0b6287a",
   "metadata": {},
   "outputs": [],
   "source": [
    "len(stops['StopPointId'].unique())"
   ]
  },
  {
   "cell_type": "markdown",
   "id": "d75fcf4a-b4bc-4833-bf28-26c51ee9e4c2",
   "metadata": {},
   "source": [
    "Roughly 1500 `StopPoint` use one name for one id; about 1600 have 2 ids for the same name. And then there are the following extreme cases:"
   ]
  },
  {
   "cell_type": "code",
   "execution_count": null,
   "id": "1bf31ce1-560a-46bf-8350-d35b7c46c5bb",
   "metadata": {},
   "outputs": [],
   "source": [
    "d = stops.groupby(['StopPointShortName', 'StopPointId']).count().groupby(level=0).count()['StopPointPublicCode']\n",
    "d.value_counts().sort_index()"
   ]
  },
  {
   "cell_type": "code",
   "execution_count": null,
   "id": "00c8a2d5-99f5-4aab-be7c-909227906a99",
   "metadata": {},
   "outputs": [],
   "source": [
    "d.loc[d > 4]"
   ]
  },
  {
   "cell_type": "markdown",
   "id": "771ac439-38f1-49df-9e3e-8f75528117fc",
   "metadata": {},
   "source": [
    "Turns out those special cases are exclusively rail stations:"
   ]
  },
  {
   "cell_type": "code",
   "execution_count": null,
   "id": "963a4c50-44a0-4063-9b26-4db46c13baef",
   "metadata": {},
   "outputs": [],
   "source": [
    "stops.groupby(['StopPointShortName', 'StopPointId', 'StopPointStopType']).count().groupby(level=[0, 2]).count()[['StopPointPublicCode']].query('StopPointPublicCode > 4')"
   ]
  },
  {
   "cell_type": "markdown",
   "id": "cbdf7ad5-336d-408a-939e-9a555b910716",
   "metadata": {},
   "source": [
    "Let's see if those stations then have quays - and no, they all link to the same mistery quay:"
   ]
  },
  {
   "cell_type": "code",
   "execution_count": null,
   "id": "94bf0d5f-49e9-4e62-a7d2-45e40382eebd",
   "metadata": {},
   "outputs": [],
   "source": [
    "stops.query('StopPointShortName==\"Luxembourg\"').groupby('QuayID').count()"
   ]
  },
  {
   "cell_type": "markdown",
   "id": "3c5eb03c-b45e-4313-9142-62f108a961a5",
   "metadata": {},
   "source": [
    "However, the `StopPoint` ids clearly show, that the quays are there. They are just encoded within the `StopPoint`, not the `StopPlace`/`Quay` pair."
   ]
  },
  {
   "cell_type": "code",
   "execution_count": null,
   "id": "dcbd978c-d487-4fd9-b6f1-9a54330a3a84",
   "metadata": {},
   "outputs": [],
   "source": [
    "stops.query('StopPointShortName==\"Luxembourg\"')[['StopPointId']]"
   ]
  },
  {
   "cell_type": "markdown",
   "id": "06e400ff-4dad-4e87-bc64-809fc4947072",
   "metadata": {},
   "source": [
    "While this particular stop isn't an issue for ICTS data (busses don't go to railway quays), it still raises the question whether ther eis hidden information in the id of other stop points. And as it turns out, this only happens on rail, so let's forget about this:"
   ]
  },
  {
   "cell_type": "code",
   "execution_count": null,
   "id": "06bd5a46-87ea-4153-b472-00b1161ce943",
   "metadata": {},
   "outputs": [],
   "source": [
    "stops.loc[stops['StopPointId'].str.match('LU::ScheduledStopPoint:\\d+_\\w+_[0-9a-zA-Z]+::')].StopPointStopType.unique()"
   ]
  },
  {
   "cell_type": "markdown",
   "id": "2095a40e-374f-49ac-a8f5-bd3dffe5b333",
   "metadata": {},
   "source": [
    "So codes are fine, except for `StopPlace` 0. Let's see if we can do this merge better"
   ]
  },
  {
   "cell_type": "markdown",
   "id": "7ead39ff-515d-472e-9d36-532c95e5d0b7",
   "metadata": {},
   "source": [
    "### Definition of StopPlaces"
   ]
  },
  {
   "cell_type": "markdown",
   "id": "cc6b3bac-9e13-42fe-8033-cd7b62ef4f25",
   "metadata": {},
   "source": [
    "Applying a stylesheet through `read_xml` seems to have one big problem: a `AssertionError` is raised every time no data are found, which is hard to distinguish from other exceptions. So I am doing a little hack here: I am adding a dummy record to the XSLT output, which will have to be removed in the loop. That way, if there are no data, we still get a dataframe."
   ]
  },
  {
   "cell_type": "code",
   "execution_count": null,
   "id": "50171dc6-30d6-49fe-9e97-dd60aa3dec16",
   "metadata": {},
   "outputs": [],
   "source": [
    "style = '''\n",
    "<xsl:stylesheet version=\"1.0\" xmlns:xsl=\"http://www.w3.org/1999/XSL/Transform\" xmlns:nx=\"http://www.netex.org.uk/netex\">\n",
    "    \n",
    "    <xsl:output method=\"xml\"/>\n",
    "    <xsl:key name=\"places\" match=\"//nx:SiteFrame/nx:topographicPlaces/nx:TopographicPlace\" use=\"@id\" />\n",
    "    \n",
    "    <xsl:template match=\"/nx:PublicationDelivery\">   \n",
    "        <StopPlace>\n",
    "            <StopPlaceID>(killme)</StopPlaceID>\n",
    "        </StopPlace>\n",
    "        <xsl:apply-templates select=\"//nx:StopPlace\" />\n",
    "    </xsl:template>\n",
    "\n",
    "    <xsl:template match=\"nx:StopPlace\">   \n",
    "        <StopPlace>\n",
    "            <StopPlaceID><xsl:value-of select=\"@id\" /></StopPlaceID>\n",
    "            <StopPlaceName><xsl:value-of select=\"nx:Name\" /></StopPlaceName>\n",
    "            <StopPlaceLatitude><xsl:value-of select=\"nx:Centroid/nx:Location/nx:Latitude\" /></StopPlaceLatitude>\n",
    "            <StopPlaceLongitude><xsl:value-of select=\"nx:Centroid/nx:Location/nx:Longitude\" /></StopPlaceLongitude>\n",
    "            <xsl:apply-templates select=\"key('places', nx:TopographicPlaceRef/@ref)\" />\n",
    "        </StopPlace>\n",
    "    </xsl:template>\n",
    "    \n",
    "    <xsl:template match=\"//nx:TopographicPlace\">   \n",
    "        <TopographicPlaceName><xsl:value-of select=\"nx:Name\" /></TopographicPlaceName>\n",
    "        <TopographicPlaceISOCode><xsl:value-of select=\"nx:IsoCode\" /></TopographicPlaceISOCode>\n",
    "    </xsl:template>\n",
    "\n",
    "</xsl:stylesheet>\n",
    "'''\n",
    "stop_places = []\n",
    "for file in z.filelist:\n",
    "    with z.open(file) as h:\n",
    "        res = pd.read_xml(h, stylesheet=style, xpath='/*')\n",
    "        stop_places.append(res.drop(0))\n",
    "stop_places = pd.concat(stop_places)"
   ]
  },
  {
   "cell_type": "markdown",
   "id": "8e696e3d-cb5c-40cc-8084-a0ff5d26b786",
   "metadata": {},
   "source": [
    "There is not a single place that has more than two IDs for the same name, i.e. the names are unique (over all files!):"
   ]
  },
  {
   "cell_type": "code",
   "execution_count": null,
   "id": "5afa241a-d60e-4ad7-8a7d-143322f05038",
   "metadata": {},
   "outputs": [],
   "source": [
    "stop_places.groupby(['StopPlaceName', 'StopPlaceID']).count().reset_index().groupby(['StopPlaceName']).count().query('StopPlaceID != 1')"
   ]
  },
  {
   "cell_type": "markdown",
   "id": "9be5f9b2-e0d0-4348-b8b6-60d364c35137",
   "metadata": {},
   "source": [
    "The IDs are not unique. 524 places are known under the same ID `0` (which is about 1/4 of all stop places!):"
   ]
  },
  {
   "cell_type": "code",
   "execution_count": null,
   "id": "3d318e96-d575-41a6-9c0f-06ec52af9d4a",
   "metadata": {},
   "outputs": [],
   "source": [
    "r = stop_places.groupby(['StopPlaceName', 'StopPlaceID']).count().reset_index().groupby(['StopPlaceID']).count()['StopPlaceName']\n",
    "print('IDs used for more than one name:\\t\\t', ', '.join(r.loc[r > 1].index))\n",
    "print('Number of places with ambiguous ID:\\t\\t', r.loc[r > 1].sum())\n",
    "print('Total number of places (unique by name):\\t', r.sum())\n",
    "print('Share of places with ambiguous ID:\\t\\t', r.loc['LU::StopPlace:0_CdT::'] / r.sum())"
   ]
  },
  {
   "cell_type": "markdown",
   "id": "efcdb4c3-35ae-4af0-961c-0113d048d6cc",
   "metadata": {},
   "source": [
    "Let's see how `StopPlace` 0 occurs by topographic place. Quite expectedly, VdL has a very high ratio. But so do Vianden and Redange, with no apparent reason."
   ]
  },
  {
   "cell_type": "code",
   "execution_count": null,
   "id": "1a6c3ab6-c7b6-479c-8494-c93613e1f824",
   "metadata": {},
   "outputs": [],
   "source": [
    "d = stop_places.groupby(['StopPlaceID', 'StopPlaceName', 'TopographicPlaceName']).count()\n",
    "d = pd.concat({'CdT0': d.loc['LU::StopPlace:0_CdT::'].groupby(level=1).sum()['StopPlaceLatitude'],\n",
    "               'all': d.groupby(level=2).sum()['StopPlaceLatitude']}, axis=1)\n",
    "d = d.fillna(0)\n",
    "d['ratio'] = d.eval('CdT0 / all')\n",
    "d = d.sort_values('ratio', ascending=False)\n",
    "d"
   ]
  },
  {
   "cell_type": "markdown",
   "id": "6f4f981a-6664-4868-b9f4-2dffb41e6b93",
   "metadata": {},
   "source": [
    "There generally seems to be quite a dissimilar distribution between communes:"
   ]
  },
  {
   "cell_type": "code",
   "execution_count": null,
   "id": "b8a0fa01-b369-4dda-a402-dc0ff8026cba",
   "metadata": {},
   "outputs": [],
   "source": [
    "d['ratio'].plot()"
   ]
  },
  {
   "cell_type": "markdown",
   "id": "b142d447-4117-4aae-b90a-fd7b44e04bf6",
   "metadata": {},
   "source": [
    "Checking the same for quays:"
   ]
  },
  {
   "cell_type": "code",
   "execution_count": null,
   "id": "fc2985d0-04b8-4997-9a7b-77909c07a9fa",
   "metadata": {},
   "outputs": [],
   "source": [
    "style = '''\n",
    "<xsl:stylesheet version=\"1.0\" xmlns:xsl=\"http://www.w3.org/1999/XSL/Transform\" xmlns:nx=\"http://www.netex.org.uk/netex\">\n",
    "    \n",
    "    <xsl:output method=\"xml\"/>\n",
    "    <xsl:key name=\"places\" match=\"//nx:SiteFrame/nx:topographicPlaces/nx:TopographicPlace\" use=\"@id\" />\n",
    "    \n",
    "    <xsl:template match=\"/nx:PublicationDelivery\">   \n",
    "        <Quay>\n",
    "            <QuayID>(forgetme)</QuayID>\n",
    "        </Quay>\n",
    "        <xsl:apply-templates select=\"//nx:Quay\" />\n",
    "    </xsl:template>\n",
    "\n",
    "    <xsl:template match=\"nx:Quay\">   \n",
    "        <Quay>\n",
    "            <QuayID><xsl:value-of select=\"@id\" /></QuayID>\n",
    "            <QuayName><xsl:value-of select=\"nx:Name\" /></QuayName>\n",
    "            <QuayLatitude><xsl:value-of select=\"nx:Centroid/nx:Location/nx:Latitude\" /></QuayLatitude>\n",
    "            <QuayLongitude><xsl:value-of select=\"nx:Centroid/nx:Location/nx:Longitude\" /></QuayLongitude>\n",
    "            <xsl:apply-templates select=\"../..\" />\n",
    "        </Quay>\n",
    "    </xsl:template>\n",
    "    \n",
    "    <xsl:template match=\"nx:StopPlace\">   \n",
    "        <StopPlaceID><xsl:value-of select=\"@id\" /></StopPlaceID>\n",
    "        <StopPlaceName><xsl:value-of select=\"nx:Name\" /></StopPlaceName>\n",
    "        <StopPlaceLatitude><xsl:value-of select=\"nx:Centroid/nx:Location/nx:Latitude\" /></StopPlaceLatitude>\n",
    "        <StopPlaceLongitude><xsl:value-of select=\"nx:Centroid/nx:Location/nx:Longitude\" /></StopPlaceLongitude>\n",
    "        <xsl:apply-templates select=\"key('places', nx:TopographicPlaceRef/@ref)\" />\n",
    "    </xsl:template>\n",
    "    \n",
    "    <xsl:template match=\"//nx:TopographicPlace\">   \n",
    "        <TopographicPlaceName><xsl:value-of select=\"nx:Name\" /></TopographicPlaceName>\n",
    "        <TopographicPlaceISOCode><xsl:value-of select=\"nx:IsoCode\" /></TopographicPlaceISOCode>\n",
    "    </xsl:template>\n",
    "\n",
    "</xsl:stylesheet>\n",
    "'''\n",
    "quays = []\n",
    "for file in z.filelist:\n",
    "    with z.open(file) as h:\n",
    "        res = pd.read_xml(h, stylesheet=style, xpath='/*')\n",
    "        quays.append(res.drop(0))\n",
    "quays = pd.concat(quays)"
   ]
  },
  {
   "cell_type": "code",
   "execution_count": null,
   "id": "c382f2e0-ed71-463b-ac2f-45f945c84454",
   "metadata": {},
   "outputs": [],
   "source": [
    "(quays['QuayName'] == quays['StopPlaceName']).sum() / len(quays)"
   ]
  },
  {
   "cell_type": "code",
   "execution_count": null,
   "id": "2790c644-4a75-45aa-a2ed-f4a04107fa7f",
   "metadata": {},
   "outputs": [],
   "source": [
    "len(quays.loc[quays['QuayName'] != quays['StopPlaceName']].QuayName.unique())"
   ]
  },
  {
   "cell_type": "code",
   "execution_count": null,
   "id": "591766fe-c52e-42ec-b770-6706a7d31921",
   "metadata": {},
   "outputs": [],
   "source": [
    "len(quays['StopPlaceName'].unique())"
   ]
  },
  {
   "cell_type": "code",
   "execution_count": null,
   "id": "98df0e76-9c22-4f32-b86e-fba1be04860a",
   "metadata": {},
   "outputs": [],
   "source": [
    "22/1847"
   ]
  },
  {
   "cell_type": "markdown",
   "id": "ac635a6e-dd63-4af1-89b2-978cf8096759",
   "metadata": {},
   "source": [
    "stops"
   ]
  },
  {
   "cell_type": "markdown",
   "id": "ba3dc5ec-ec3b-4ea4-a7e9-85c4c01780f9",
   "metadata": {},
   "source": [
    "### Trying this manually"
   ]
  },
  {
   "cell_type": "code",
   "execution_count": null,
   "id": "d5d79543-48ff-441a-bfe1-4fbdd04a59a3",
   "metadata": {},
   "outputs": [],
   "source": [
    "file = next(f for f in z.filelist if '623' in f.filename)\n",
    "\n",
    "style = '''\n",
    "<xsl:stylesheet version=\"1.0\" xmlns:xsl=\"http://www.w3.org/1999/XSL/Transform\" xmlns:nx=\"http://www.netex.org.uk/netex\">\n",
    "\n",
    "    <xsl:key name=\"places\" match=\"//nx:SiteFrame/nx:topographicPlaces/nx:TopographicPlace\" use=\"@id\" />\n",
    "    \n",
    "    <xsl:template match=\"/nx:PublicationDelivery\">   \n",
    "        <StopPlace>\n",
    "            <StopPlaceID>(forgetme)</StopPlaceID>\n",
    "        </StopPlace>\n",
    "        <xsl:apply-templates select=\"//nx:StopPlace\" />\n",
    "    </xsl:template>\n",
    "\n",
    "\n",
    "\n",
    "    <xsl:template match=\"nx:StopPlace\">\n",
    "        <StopPlace>\n",
    "            <StopPlaceID><xsl:value-of select=\"@id\" /></StopPlaceID>\n",
    "            <StopPlaceName><xsl:value-of select=\"nx:Name\" /></StopPlaceName>\n",
    "            <StopPlaceLatitude><xsl:value-of select=\"nx:Centroid/nx:Location/nx:Latitude\" /></StopPlaceLatitude>\n",
    "            <StopPlaceLongitude><xsl:value-of select=\"nx:Centroid/nx:Location/nx:Longitude\" /></StopPlaceLongitude>\n",
    "            <xsl:apply-templates select=\"key('places', nx:TopographicPlaceRef/@ref)\" />\n",
    "        </StopPlace>\n",
    "    </xsl:template>\n",
    "    \n",
    "    <xsl:template match=\"nx:TopographicPlace\">   \n",
    "        <TopographicPlaceName><xsl:value-of select=\"nx:Name\" /></TopographicPlaceName>\n",
    "        <TopographicPlaceISOCode><xsl:value-of select=\"nx:IsoCode\" /></TopographicPlaceISOCode>\n",
    "    </xsl:template>\n",
    "\n",
    "</xsl:stylesheet>\n",
    "'''\n",
    "stop_places = []\n",
    "stop_places.append(pd.read_xml(z.open(file), xpath='/*', stylesheet=style).drop(0))\n",
    "stop_places = pd.concat(stop_places)\n",
    "\n",
    "\n",
    "style = '''\n",
    "<xsl:stylesheet version=\"1.0\" xmlns:xsl=\"http://www.w3.org/1999/XSL/Transform\" xmlns:nx=\"http://www.netex.org.uk/netex\">\n",
    "\n",
    "    <xsl:key name=\"places\" match=\"//nx:SiteFrame/nx:topographicPlaces/nx:TopographicPlace\" use=\"@id\" />\n",
    "    \n",
    "    <xsl:template match=\"/nx:PublicationDelivery\">   \n",
    "        <StopPoint>\n",
    "            <StopPointID>(forgetme)</StopPointID>\n",
    "        </StopPoint>\n",
    "        <xsl:apply-templates select=\"//nx:ScheduledStopPoint\" />\n",
    "    </xsl:template>\n",
    "\n",
    "\n",
    "    <xsl:template match=\"nx:ScheduledStopPoint\">   \n",
    "        <StopPoint>\n",
    "            <StopPointID><xsl:value-of select=\"@id\" /></StopPointID>\n",
    "            <StopPointShortName><xsl:value-of select=\"nx:ShortName\" /></StopPointShortName>\n",
    "            <StopPointPublicCode><xsl:value-of select=\"nx:PublicCode\" /></StopPointPublicCode>\n",
    "            <StopPointStopType><xsl:value-of select=\"nx:StopType\" /></StopPointStopType>\n",
    "            <StopPointLatitude><xsl:value-of select=\"nx:Location/nx:Latitude\" /></StopPointLatitude>\n",
    "            <StopPointLongitude><xsl:value-of select=\"nx:Location/nx:Longitude\" /></StopPointLongitude>\n",
    "        </StopPoint>\n",
    "    </xsl:template>\n",
    "\n",
    "</xsl:stylesheet>\n",
    "'''\n",
    "stop_points = []\n",
    "stop_points.append(pd.read_xml(z.open(file), xpath='/*', stylesheet=style).drop(0))\n",
    "stop_points = pd.concat(stop_points)\n",
    "    \n",
    "style = '''\n",
    "<xsl:stylesheet version=\"1.0\" xmlns:xsl=\"http://www.w3.org/1999/XSL/Transform\" xmlns:nx=\"http://www.netex.org.uk/netex\">\n",
    "\n",
    "    <xsl:template match=\"/nx:PublicationDelivery\">   \n",
    "        <Quay>\n",
    "            <QuayID>(forgetme)</QuayID>\n",
    "        </Quay>\n",
    "        <xsl:apply-templates select=\"//nx:Quay\" />\n",
    "    </xsl:template>\n",
    "\n",
    "     <xsl:template match=\"nx:Quay\">   \n",
    "     <Quay>\n",
    "        <QuayID><xsl:value-of select=\"@id\" /></QuayID>\n",
    "        <QuayName><xsl:value-of select=\"nx:Name\" /></QuayName>\n",
    "        <QuayLatitude><xsl:value-of select=\"nx:Centroid/nx:Location/nx:Latitude\" /></QuayLatitude>\n",
    "        <QuayLongitude><xsl:value-of select=\"nx:Centroid/nx:Location/nx:Longitude\" /></QuayLongitude>\n",
    "        <QuayStopPlaceID><xsl:value-of select=\"../../@id\" /></QuayStopPlaceID>\n",
    "        <QuayStopPlaceName><xsl:value-of select=\"../../nx:Name\" /></QuayStopPlaceName>\n",
    "    </Quay>\n",
    "    </xsl:template>\n",
    "\n",
    "</xsl:stylesheet>\n",
    "'''\n",
    "with z.open(file) as h:\n",
    "    quays = pd.read_xml(h, xpath='/*', stylesheet=style).drop(0)\n",
    "\n",
    "    \n",
    "style = '''\n",
    "<xsl:stylesheet version=\"1.0\" xmlns:xsl=\"http://www.w3.org/1999/XSL/Transform\" xmlns:nx=\"http://www.netex.org.uk/netex\">\n",
    "    <xsl:key name=\"stoppoints\" match=\"//nx:ServiceFrame/nx:scheduledStopPoints/nx:ScheduledStopPoint\" use=\"@id\" />\n",
    "    <xsl:key name=\"stopplaces\" match=\"//nx:SiteFrame/nx:stopPlaces/nx:StopPlace\" use=\"@id\" />\n",
    "    <xsl:key name=\"quays\" match=\"//nx:SiteFrame/nx:stopPlaces/nx:StopPlace/nx:quays/nx:Quay\" use=\"@id\" />\n",
    "    <xsl:key name=\"places\" match=\"//nx:SiteFrame/nx:topographicPlaces/nx:TopographicPlace\" use=\"@id\" />\n",
    "    <xsl:key name=\"authorities\" match=\"//nx:organisations/nx:Authority\" use=\"@id\" />\n",
    "\n",
    "    <xsl:template match=\"/nx:PublicationDelivery\">   \n",
    "        <Stop>\n",
    "            <ID>(forgetme)</ID>\n",
    "        </Stop>\n",
    "        <xsl:apply-templates select=\"//nx:PassengerStopAssignment\" />\n",
    "    </xsl:template>\n",
    "\n",
    "    <xsl:template match=\"nx:PassengerStopAssignment\">   \n",
    "        <Stop>\n",
    "            <ID><xsl:value-of select=\"@id\" /></ID>\n",
    "            <Order><xsl:value-of select=\"@order\" /></Order>\n",
    "            <stopPoint><xsl:value-of select=\"nx:ScheduledStopPointRef/@ref\" /></stopPoint>\n",
    "            <stopPlace><xsl:value-of select=\"nx:StopPlaceRef/@ref\" /></stopPlace>\n",
    "            <quay><xsl:value-of select=\"nx:QuayRef/@ref\" /></quay>\n",
    "            <authority><xsl:value-of select=\"key('authorities', nx:AuthorityRef/@ref)/nx:Name\" /></authority>\n",
    "            <xsl:apply-templates select=\"../../../../nx:ValidBetween\" />\n",
    "        </Stop>\n",
    "    </xsl:template>\n",
    "    \n",
    "    <xsl:template match=\"nx:ValidBetween\">\n",
    "        <fromDate><xsl:value-of select=\"nx:FromDate\" /></fromDate>\n",
    "        <toDate><xsl:value-of select=\"nx:ToDate\" /></toDate>\n",
    "    </xsl:template>\n",
    "</xsl:stylesheet>\n",
    "'''\n",
    "with z.open(file) as h:   \n",
    "    stop_assignments = pd.read_xml(h, xpath='/*', stylesheet=style).drop(0, axis=0)"
   ]
  },
  {
   "cell_type": "markdown",
   "id": "1c1743cc-c8d1-4f03-8716-da94070ce362",
   "metadata": {},
   "source": [
    "Let's check for uniqueness:"
   ]
  },
  {
   "cell_type": "code",
   "execution_count": null,
   "id": "a164d51a-53bd-4247-8688-8ef79801c3fe",
   "metadata": {},
   "outputs": [],
   "source": [
    "(quays.groupby(['QuayID']).count()['QuayName'] == 1).sum() / len(quays)"
   ]
  },
  {
   "cell_type": "code",
   "execution_count": null,
   "id": "254c20f2-ffd4-4f0d-98f6-096a87801b1b",
   "metadata": {},
   "outputs": [],
   "source": [
    "(stop_points.groupby(['StopPointID']).count()['StopPointShortName'] == 1).sum() / len(stop_points)"
   ]
  },
  {
   "cell_type": "code",
   "execution_count": null,
   "id": "ced1846b-b6c3-49df-9f85-d4380bebd727",
   "metadata": {},
   "outputs": [],
   "source": [
    "(stop_places.groupby(['StopPlaceID']).count()['StopPlaceName'] == 1).sum() / len(stop_places)"
   ]
  },
  {
   "cell_type": "markdown",
   "id": "6f7f4f13-6a42-4feb-9d44-97ccb3aa2fe9",
   "metadata": {},
   "source": [
    "So the assignment procedure will be:\n",
    "\n",
    "1. There is a unique `stop_place` and/or `quay` and we are done\n",
    "2. `stop_place` is zero, but there is a unique `quay` - which raises the question whether `quay` 1, 2, 3 etc. are unique\n",
    "3. There is no quay, and top place is zero."
   ]
  },
  {
   "cell_type": "code",
   "execution_count": null,
   "id": "95e1e267-9619-4e65-9e23-cd997fee2022",
   "metadata": {},
   "outputs": [],
   "source": [
    "stop_assignments.iloc[:2]"
   ]
  },
  {
   "cell_type": "code",
   "execution_count": null,
   "id": "b3831bd7-7a04-4aff-bbb0-ba87675f64a3",
   "metadata": {},
   "outputs": [],
   "source": [
    "quays.query('QuayID==\"LU::Quay:300034007_CdT::\"')"
   ]
  },
  {
   "cell_type": "code",
   "execution_count": null,
   "id": "f0aaa30d-9484-4814-8ed4-ce0bed687350",
   "metadata": {},
   "outputs": [],
   "source": [
    "stop_assignments.iloc[:3]"
   ]
  },
  {
   "cell_type": "code",
   "execution_count": null,
   "id": "8e3420bc-398f-4e91-a0af-3f345cab1047",
   "metadata": {},
   "outputs": [],
   "source": [
    "stop_points.query('StopPointID==\"LU::ScheduledStopPoint:12140101_RGTR_::\"')"
   ]
  },
  {
   "cell_type": "code",
   "execution_count": null,
   "id": "1a19ad51-417c-45d8-a75d-97cb518c600a",
   "metadata": {},
   "outputs": [],
   "source": [
    "stop_places.loc[stop_places['StopPlaceName'].str.match('Cessange, Barrès')]"
   ]
  },
  {
   "cell_type": "code",
   "execution_count": null,
   "id": "4c8694d8-087d-445d-a1ee-4f3ba3aa3ac0",
   "metadata": {},
   "outputs": [],
   "source": [
    "i = ((stop_places['StopPlaceLatitude'] - stop_points.query('StopPointID==\"LU::ScheduledStopPoint:12140101_RGTR_::\"')['StopPointLatitude'].values[0])**2\n",
    "     + (stop_places['StopPlaceLongitude'] - stop_points.query('StopPointID==\"LU::ScheduledStopPoint:12140101_RGTR_::\"')['StopPointLongitude'].values[0])**2).idxmin()\n",
    "stop_places.loc[i]"
   ]
  },
  {
   "cell_type": "markdown",
   "id": "5fa14ae4-cf2f-49f4-9d10-e4a069da3c3b",
   "metadata": {},
   "source": [
    "So this seems to generally work. Let's see if finding the closest point works for all stops / points:"
   ]
  },
  {
   "cell_type": "code",
   "execution_count": null,
   "id": "18c3397a-5721-413f-abec-1f2e38601e99",
   "metadata": {},
   "outputs": [],
   "source": [
    "def distance(place):\n",
    "    dist = stop_points.apply(\n",
    "        lambda p: ((p.StopPointLatitude - place.StopPlaceLatitude)**2\n",
    "                   + (p.StopPointLongitude - place.StopPlaceLongitude)**2)\n",
    "        , axis=1)\n",
    "    return stop_points.loc[dist.idxmin()].StopPointID\n",
    "\n",
    "filt = stop_places['StopPlaceID']=='LU::StopPlace:0_CdT::'\n",
    "stop_places.loc[filt, 'point'] = stop_places.loc[filt].apply(distance, axis=1)\n",
    "\n",
    "stop_places.merge(stop_points, left_on=['point'], right_on=['StopPointID'])[['StopPlaceName', 'StopPointShortName']]"
   ]
  },
  {
   "cell_type": "markdown",
   "id": "3cc73cce-fd1f-4205-a688-9ccd07fa0794",
   "metadata": {},
   "source": [
    "Looking good"
   ]
  },
  {
   "cell_type": "markdown",
   "id": "e51253f0-8754-4e3f-b7e0-8442eed62842",
   "metadata": {},
   "source": [
    "## Playing with actual init data"
   ]
  },
  {
   "cell_type": "code",
   "execution_count": null,
   "id": "74c56ffa-1b78-4d67-b382-82754b3e2242",
   "metadata": {},
   "outputs": [],
   "source": [
    "dta = pd.read_csv(r'P:\\PM\\Proj\\18005 - Vitesses Bus RGTR\\Doc\\data-init-bus-hors-service\\20221108180002_LUXGPS.csv.zip', sep=';')"
   ]
  },
  {
   "cell_type": "markdown",
   "id": "425ba0aa-ef31-489c-8916-6869595debfe",
   "metadata": {},
   "source": [
    "###  Lines"
   ]
  },
  {
   "cell_type": "markdown",
   "id": "7b8aa07f-7ba3-4db5-8e20-377c8569c770",
   "metadata": {},
   "source": [
    "Lines do match, except for a bunch of CFL lines and ' TICE20000'"
   ]
  },
  {
   "cell_type": "code",
   "execution_count": null,
   "id": "284da066-1027-4cd4-9ec3-9ede3c81805f",
   "metadata": {},
   "outputs": [],
   "source": [
    "lines['codeInit'] = lines['authority'].replace('CFL_Bus', 'CFL').str.cat(lines['shortName'].astype('str').str.pad(2, fillchar='0'))\n",
    "d = dta.groupby('LINIE').count().reset_index().merge(lines, left_on='LINIE', right_on='codeInit', how='left').query('name.isnull()')\n",
    "d[['LINIE']]"
   ]
  },
  {
   "cell_type": "markdown",
   "id": "54455853-0d15-4c91-9607-454125f53ce2",
   "metadata": {},
   "source": [
    "Those CFL lines seem to be actually RGTR lines that have been rewritten. Manual analysis of a few of the corresponding XML files show: those files contain no timetable information, or stops for that matter. This seems to be a data handling problem between CFL and ATP."
   ]
  },
  {
   "cell_type": "code",
   "execution_count": null,
   "id": "55c9bd09-3db9-49ed-af99-c5c643d1233b",
   "metadata": {},
   "outputs": [],
   "source": [
    "lines.query('codeInit==\"RGTR201\"')"
   ]
  },
  {
   "cell_type": "markdown",
   "id": "39072357-cfc9-443f-b56f-a6190955394c",
   "metadata": {},
   "source": [
    "### Halts"
   ]
  },
  {
   "cell_type": "markdown",
   "id": "66cb117d-5584-4c5a-9bf3-8127477e22c7",
   "metadata": {},
   "source": [
    "Get `StopPoint` of all files"
   ]
  },
  {
   "cell_type": "code",
   "execution_count": null,
   "id": "e16959bb-8cab-4dad-8336-9067a07f1d14",
   "metadata": {},
   "outputs": [],
   "source": [
    "style = '''\n",
    "<xsl:stylesheet version=\"1.0\" xmlns:xsl=\"http://www.w3.org/1999/XSL/Transform\" xmlns:nx=\"http://www.netex.org.uk/netex\">\n",
    "\n",
    "    <xsl:key name=\"places\" match=\"//nx:SiteFrame/nx:topographicPlaces/nx:TopographicPlace\" use=\"@id\" />\n",
    "    \n",
    "    <xsl:template match=\"/nx:PublicationDelivery\">   \n",
    "        <StopPoint>\n",
    "            <StopPointID>(forgetme)</StopPointID>\n",
    "        </StopPoint>\n",
    "        <xsl:apply-templates select=\"//nx:ScheduledStopPoint\" />\n",
    "    </xsl:template>\n",
    "\n",
    "\n",
    "    <xsl:template match=\"nx:ScheduledStopPoint\">   \n",
    "        <StopPoint>\n",
    "            <StopPointID><xsl:value-of select=\"@id\" /></StopPointID>\n",
    "            <StopPointShortName><xsl:value-of select=\"nx:ShortName\" /></StopPointShortName>\n",
    "            <StopPointPublicCode><xsl:value-of select=\"nx:PublicCode\" /></StopPointPublicCode>\n",
    "            <StopPointStopType><xsl:value-of select=\"nx:StopType\" /></StopPointStopType>\n",
    "            <StopPointLatitude><xsl:value-of select=\"nx:Location/nx:Latitude\" /></StopPointLatitude>\n",
    "            <StopPointLongitude><xsl:value-of select=\"nx:Location/nx:Longitude\" /></StopPointLongitude>\n",
    "        </StopPoint>\n",
    "    </xsl:template>\n",
    "\n",
    "</xsl:stylesheet>\n",
    "'''\n",
    "stop_points = []\n",
    "for file in z.filelist:\n",
    "    stop_points.append(pd.read_xml(z.open(file), xpath='/*', stylesheet=style).drop(0))\n",
    "stop_points = pd.concat(stop_points)\n",
    "stop_points.drop_duplicates(inplace=True)"
   ]
  },
  {
   "cell_type": "markdown",
   "id": "07725cb4-9919-4f37-92c0-77b2e1f2fb64",
   "metadata": {},
   "source": [
    "Let's try merging with `dta`. `dta.HALT` has no operator code. We know that `StopPointID` are not unique by code alone, i.e. without the \"operator suffix\"."
   ]
  },
  {
   "cell_type": "code",
   "execution_count": null,
   "id": "15295cfe-5b5e-440c-a841-1b74d5c0c021",
   "metadata": {},
   "outputs": [],
   "source": [
    "d = stop_points['StopPointID'].str.extract('LU::ScheduledStopPoint:(?P<StopID>\\d+)_(?P<Operator>[A-Z]+)_.*::')\n",
    "stop_points['HALT'] = d['StopID'].astype('int')"
   ]
  },
  {
   "cell_type": "markdown",
   "id": "9dcb3703-946b-4ad1-80bd-efaa7e631709",
   "metadata": {},
   "source": [
    "There are 86 stops, which have the same code but differ by operator suffix:"
   ]
  },
  {
   "cell_type": "code",
   "execution_count": null,
   "id": "e1c0b657-2777-405a-9304-c37b0d44d215",
   "metadata": {},
   "outputs": [],
   "source": [
    "(stop_points.groupby('HALT').count()['StopPointID'] > 1).sum()"
   ]
  },
  {
   "cell_type": "markdown",
   "id": "99789a28-9199-43ef-817e-564e937e0160",
   "metadata": {},
   "source": [
    "All that means is that matching `dta` onto `stop_points` is going to be a many to many, and we will not be able to retrieve the correct `StopPoint` object, i.e. that pointing to the right operator `StopPlace` with the authority set correctly. Still, on the code alone, most halts can be successfully matched. Most mismatches are CFL, and particularly those lines operated by CFL as RGTR services - this is almost definitely related to the aforementioned data exchange problem. There's only two RGTR lines and the suspicious `TICE0`."
   ]
  },
  {
   "cell_type": "code",
   "execution_count": null,
   "id": "e50f3cbf-7615-48fe-9507-362203d323ae",
   "metadata": {},
   "outputs": [],
   "source": [
    "d = (dta.loc[~dta.HALT.isnull()]\n",
    "     .merge(stop_points, left_on=['HALT'], right_on=['HALT'], how='left')\n",
    "     .groupby(['LINIE', 'HALT'])\n",
    "     .agg({'StopPointID': 'count', 'ZEIT': 'count'})\n",
    "     .rename(columns={'StopPointID': 'known_stops', 'ZEIT': 'observed_stops'})\n",
    "    )\n",
    "d.query('known_stops==0')[['observed_stops']]"
   ]
  },
  {
   "cell_type": "markdown",
   "id": "21e5c965-5437-42a6-adc6-e73ed93a465d",
   "metadata": {},
   "source": [
    "Here a more condensed representation, comparing the number of stops overall to the number of unknown stops observed:"
   ]
  },
  {
   "cell_type": "code",
   "execution_count": null,
   "id": "efb6dee3-8010-4e16-a790-f7072babfb91",
   "metadata": {},
   "outputs": [],
   "source": [
    "d.groupby(level=0).agg({'known_stops': lambda r: (r == 0).sum(), 'observed_stops': 'count'}).rename(columns={'known_stops': 'unknown_stops'}).query('unknown_stops > 0').T"
   ]
  },
  {
   "cell_type": "markdown",
   "id": "acf797dc-9392-4412-b4b9-e8e016ce1cf4",
   "metadata": {},
   "source": [
    "Since we are matching purely by the numeric bit of the idea, I am pretty confident that those codes do indeed not exist, not under any operator. So yeah, data governance!"
   ]
  },
  {
   "cell_type": "code",
   "execution_count": null,
   "id": "6f54b6c0-b3c3-43c9-809f-11fdb3d8cc30",
   "metadata": {},
   "outputs": [],
   "source": [
    "stop_places"
   ]
  },
  {
   "cell_type": "code",
   "execution_count": null,
   "id": "2bf405ca-f243-4942-ad96-7d7ff7ba4d4c",
   "metadata": {},
   "outputs": [],
   "source": []
  }
 ],
 "metadata": {
  "kernelspec": {
   "display_name": "py310-gg",
   "language": "python",
   "name": "py310-gg"
  },
  "language_info": {
   "codemirror_mode": {
    "name": "ipython",
    "version": 3
   },
   "file_extension": ".py",
   "mimetype": "text/x-python",
   "name": "python",
   "nbconvert_exporter": "python",
   "pygments_lexer": "ipython3",
   "version": "3.10.6"
  }
 },
 "nbformat": 4,
 "nbformat_minor": 5
}
